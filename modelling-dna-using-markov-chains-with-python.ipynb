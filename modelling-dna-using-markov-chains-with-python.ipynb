{
 "cells": [
  {
   "cell_type": "markdown",
   "id": "99db40d1",
   "metadata": {
    "papermill": {
     "duration": 0.00358,
     "end_time": "2022-06-08T07:05:25.709412",
     "exception": false,
     "start_time": "2022-06-08T07:05:25.705832",
     "status": "completed"
    },
    "tags": []
   },
   "source": [
    "# Modelling DNA using Markov chains\n",
    "\n",
    "## 1. Simple DNA sequence model\n",
    "The simplest model of DNA sequence evolution assumes that the sequence has been produced by a random process that randomly chose any of the four nucleotides at each position in the sequence, where the probability of choosing any one of the four nucleotides depends on a predetermined probability distribution. That is, the four nucleotides are chosen with pA, pC, pG, and pT respectively. This is known as the *multinomial* sequence model.\n",
    "\n",
    "A multinomial model for DNA sequence evolution has four parameters: the probabilities of the four nucleotides pA, pC, pG, and pT. For example, say we may create a multinomial model where pA=0.2, pC=0.3, pG=0.3, and pT=0.2. This means that the probability of choosing a A at any particular sequence position is set to be 0.2, the probability of choosing a C is 0.3, of choosing a G is 0.3, and of choosing a T is 0.2. Note that pA + pC + pG + pT = 1, as the sum of the probabilities of the four different types of nucleotides must be equal to 1, as there are only four possible types of nucleotide."
   ]
  },
  {
   "cell_type": "code",
   "execution_count": 1,
   "id": "88a2d776",
   "metadata": {
    "execution": {
     "iopub.execute_input": "2022-06-08T07:05:25.716720Z",
     "iopub.status.busy": "2022-06-08T07:05:25.716293Z",
     "iopub.status.idle": "2022-06-08T07:05:25.919075Z",
     "shell.execute_reply": "2022-06-08T07:05:25.917719Z"
    },
    "papermill": {
     "duration": 0.211631,
     "end_time": "2022-06-08T07:05:25.923937",
     "exception": false,
     "start_time": "2022-06-08T07:05:25.712306",
     "status": "completed"
    },
    "tags": []
   },
   "outputs": [
    {
     "data": {
      "image/png": "[encoded data removed]",
      "text/plain": [
       "<Figure size 432x288 with 1 Axes>"
      ]
     },
     "metadata": {},
     "output_type": "display_data"
    }
   ],
   "source": [
    "import matplotlib.pyplot as plt\n",
    "\n",
    "# Pie chart, where the slices will be ordered and plotted counter-clockwise:\n",
    "labels = ['pA', 'pC', 'pG', 'pT']\n",
    "sizes = [20, 30, 30, 20]\n",
    "\n",
    "fig1, ax1 = plt.subplots()\n",
    "ax1.pie(sizes, labels=labels, autopct='%1.1f%%',\n",
    "        shadow=True, startangle=90)\n",
    "ax1.axis('equal')  # Equal aspect ratio ensures that pie is drawn as a circle.\n",
    "\n",
    "plt.show()"
   ]
  },
  {
   "cell_type": "markdown",
   "id": "da8128b5",
   "metadata": {
    "papermill": {
     "duration": 0.005076,
     "end_time": "2022-06-08T07:05:25.934682",
     "exception": false,
     "start_time": "2022-06-08T07:05:25.929606",
     "status": "completed"
    },
    "tags": []
   },
   "source": [
    "## Generating a DNA sequence using a multinomial model"
   ]
  },
  {
   "cell_type": "code",
   "execution_count": 2,
   "id": "d22c7fe0",
   "metadata": {
    "execution": {
     "iopub.execute_input": "2022-06-08T07:05:25.948629Z",
     "iopub.status.busy": "2022-06-08T07:05:25.947699Z",
     "iopub.status.idle": "2022-06-08T07:05:25.958564Z",
     "shell.execute_reply": "2022-06-08T07:05:25.957446Z"
    },
    "papermill": {
     "duration": 0.021702,
     "end_time": "2022-06-08T07:05:25.961966",
     "exception": false,
     "start_time": "2022-06-08T07:05:25.940264",
     "status": "completed"
    },
    "tags": []
   },
   "outputs": [],
   "source": [
    "import numpy as np\n",
    "\n",
    "nucleotides = ['A', 'C', 'G', 'T']\n",
    "nucleotide_probabilities = [0.2, 0.3, 0.3, 0.2]\n",
    "sequence_length = 100\n",
    "sequence = np.random.choice(nucleotides, sequence_length, p=nucleotide_probabilities)\n",
    "\n",
    "sequence = \"\".join(list(sequence))"
   ]
  },
  {
   "cell_type": "code",
   "execution_count": 3,
   "id": "59d4ffd6",
   "metadata": {
    "execution": {
     "iopub.execute_input": "2022-06-08T07:05:25.977514Z",
     "iopub.status.busy": "2022-06-08T07:05:25.976662Z",
     "iopub.status.idle": "2022-06-08T07:05:25.985942Z",
     "shell.execute_reply": "2022-06-08T07:05:25.985292Z"
    },
    "papermill": {
     "duration": 0.020226,
     "end_time": "2022-06-08T07:05:25.987846",
     "exception": false,
     "start_time": "2022-06-08T07:05:25.967620",
     "status": "completed"
    },
    "tags": []
   },
   "outputs": [
    {
     "data": {
      "text/plain": [
       "0.19"
      ]
     },
     "execution_count": 3,
     "metadata": {},
     "output_type": "execute_result"
    }
   ],
   "source": [
    "sequence.count('A')/len(sequence)"
   ]
  },
  {
   "cell_type": "markdown",
   "id": "ae31f553",
   "metadata": {
    "papermill": {
     "duration": 0.002984,
     "end_time": "2022-06-08T07:05:25.994021",
     "exception": false,
     "start_time": "2022-06-08T07:05:25.991037",
     "status": "completed"
    },
    "tags": []
   },
   "source": [
    "## A Markov model of DNA sequence"
   ]
  },
  {
   "cell_type": "code",
   "execution_count": null,
   "id": "ad5727b9",
   "metadata": {
    "papermill": {
     "duration": 0.002728,
     "end_time": "2022-06-08T07:05:25.999832",
     "exception": false,
     "start_time": "2022-06-08T07:05:25.997104",
     "status": "completed"
    },
    "tags": []
   },
   "outputs": [],
   "source": []
  }
 ],
 "metadata": {
  "kernelspec": {
   "display_name": "Python 3",
   "language": "python",
   "name": "python3"
  },
  "language_info": {
   "codemirror_mode": {
    "name": "ipython",
    "version": 3
   },
   "file_extension": ".py",
   "mimetype": "text/x-python",
   "name": "python",
   "nbconvert_exporter": "python",
   "pygments_lexer": "ipython3",
   "version": "3.7.12"
  },
  "papermill": {
   "default_parameters": {},
   "duration": 11.641944,
   "end_time": "2022-06-08T07:05:26.623768",
   "environment_variables": {},
   "exception": null,
   "input_path": "__notebook__.ipynb",
   "output_path": "__notebook__.ipynb",
   "parameters": {},
   "start_time": "2022-06-08T07:05:14.981824",
   "version": "2.3.4"
  }
 },
 "nbformat": 4,
 "nbformat_minor": 5
}
